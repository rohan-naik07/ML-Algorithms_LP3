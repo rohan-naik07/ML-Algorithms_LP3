{
  "nbformat": 4,
  "nbformat_minor": 0,
  "metadata": {
    "colab": {
      "name": "KNN.ipynb",
      "provenance": []
    },
    "kernelspec": {
      "name": "python3",
      "display_name": "Python 3"
    },
    "language_info": {
      "name": "python"
    }
  },
  "cells": [
    {
      "cell_type": "code",
      "execution_count": 25,
      "metadata": {
        "id": "Hw2_3RTqKMUR"
      },
      "outputs": [],
      "source": [
        "from collections import Counter\n",
        "import math\n",
        "\n",
        "def mode(labels):\n",
        "    return Counter(labels).most_common(1)[0][0]\n",
        "\n",
        "def euclidean_distance(point1, point2):\n",
        "    sum_squared_distance = 0\n",
        "    for i in range(len(point1)):\n",
        "        sum_squared_distance += math.pow(point1[0][i] - point2[0][i], 2)\n",
        "    return math.sqrt(sum_squared_distance)"
      ]
    },
    {
      "cell_type": "code",
      "source": [
        "def knn(data, query, k):\n",
        "    neighbor_distances_and_indices = []\n",
        "    \n",
        "    # 3. For each example in the data\n",
        "    for index, example in enumerate(data):\n",
        "        # 3.1 Calculate the distance between the query example and the current\n",
        "        # example from the data.\n",
        "        distance = euclidean_distance(example[:-1], query)\n",
        "        \n",
        "        # 3.2 Add the distance and the index of the example to an ordered collection\n",
        "        neighbor_distances_and_indices.append((distance, index))\n",
        "    \n",
        "    # 4. Sort the ordered collection of distances and indices from\n",
        "    # smallest to largest (in ascending order) by the distances\n",
        "    sorted_neighbor_distances_and_indices = sorted(neighbor_distances_and_indices)\n",
        "    \n",
        "    # 5. Pick the first K entries from the sorted collection\n",
        "    k_nearest_distances_and_indices = sorted_neighbor_distances_and_indices[:k]\n",
        "    \n",
        "    # 6. Get the labels of the selected K entries\n",
        "    k_nearest_labels = [data[i][-1] for distance, i in k_nearest_distances_and_indices]\n",
        "\n",
        "    # 7. If regression (choice_fn = mean), return the average of the K labels\n",
        "    # 8. If classification (choice_fn = mode), return the mode of the K labels\n",
        "    return k_nearest_distances_and_indices , mode(k_nearest_labels)"
      ],
      "metadata": {
        "id": "6otoJcP8zZxP"
      },
      "execution_count": 26,
      "outputs": []
    },
    {
      "cell_type": "code",
      "source": [
        "def knn_weighted_sum(data, query, k):\n",
        "    neighbor_distances_and_indices = []\n",
        "    \n",
        "    # 3. For each example in the data\n",
        "    for index, example in enumerate(data):\n",
        "        # 3.1 Calculate the distance between the query example and the current\n",
        "        # example from the data.\n",
        "        distance = euclidean_distance(example[:-1], query)\n",
        "        \n",
        "        # 3.2 Add the distance and the index of the example to an ordered collection\n",
        "        neighbor_distances_and_indices.append((distance, example[-1]))\n",
        "    \n",
        "    # 4. Sort the ordered collection of distances and indices from\n",
        "    # smallest to largest (in ascending order) by the distances\n",
        "    sorted_neighbor_distances_and_indices = sorted(neighbor_distances_and_indices)\n",
        "    \n",
        "    # 5. Pick the first K entries from the sorted collection\n",
        "    k_nearest_distances_and_indices = sorted_neighbor_distances_and_indices[:k]\n",
        "    print(k_nearest_distances_and_indices)\n",
        "    \n",
        "     # compute weighted Sum of each target\n",
        "    target2weight = {}\n",
        "    c = 0.0001\n",
        "    for distance,target in  k_nearest_distances_and_indices:\n",
        "      weight = 1/(distance + c)\n",
        "      if target in target2weight.keys():\n",
        "        target2weight[target] = target2weight[target] + weight\n",
        "      else:\n",
        "        target2weight[target] = weight\n",
        "\n",
        "    # Prediction is the target value with maximum weighted sum\n",
        "    prediction = -1\n",
        "    max_weighted_sum = -1\n",
        "    for target in target2weight:\n",
        "      if target2weight[target] > max_weighted_sum:\n",
        "        prediction = target\n",
        "        max_weighted_sum = target2weight[target]\n",
        "\n",
        "\n",
        "\n",
        "    # 7. If regression (choice_fn = mean), return the average of the K labels\n",
        "    # 8. If classification (choice_fn = mode), return the mode of the K labels\n",
        "    return k_nearest_distances_and_indices , prediction"
      ],
      "metadata": {
        "id": "zpi3Alu53gfl"
      },
      "execution_count": 41,
      "outputs": []
    },
    {
      "cell_type": "code",
      "source": [
        "clf_data = [\n",
        "    ((4,2),1),\n",
        "    ((2,4),1),\n",
        "    ((6,4),1),\n",
        "    ((4,6),1),\n",
        "    ((6,2),0),\n",
        "    ((4,4),0)\n",
        "]\n",
        "\n",
        "clf_query = [(6,6)]\n",
        "clf_k_nearest_neighbors, clf_prediction = knn(\n",
        "    clf_data, clf_query, k=3\n",
        ")"
      ],
      "metadata": {
        "id": "wPOY6seFzpm7"
      },
      "execution_count": 42,
      "outputs": []
    },
    {
      "cell_type": "code",
      "source": [
        "clf_k_nearest_neighbors"
      ],
      "metadata": {
        "colab": {
          "base_uri": "https://localhost:8080/"
        },
        "id": "RepfjwCOzvmX",
        "outputId": "07b318b3-5d43-442d-9774-d368445d757d"
      },
      "execution_count": 43,
      "outputs": [
        {
          "output_type": "execute_result",
          "data": {
            "text/plain": [
              "[(0.0, 2), (0.0, 4), (2.0, 0)]"
            ]
          },
          "metadata": {},
          "execution_count": 43
        }
      ]
    },
    {
      "cell_type": "code",
      "source": [
        "clf_prediction"
      ],
      "metadata": {
        "colab": {
          "base_uri": "https://localhost:8080/"
        },
        "id": "Yu3Q0td00rie",
        "outputId": "73246da9-86ad-495c-bf37-3900ce33531d"
      },
      "execution_count": 44,
      "outputs": [
        {
          "output_type": "execute_result",
          "data": {
            "text/plain": [
              "1"
            ]
          },
          "metadata": {},
          "execution_count": 44
        }
      ]
    },
    {
      "cell_type": "code",
      "source": [
        "clf_k_nearest_neighbors, clf_prediction = knn_weighted_sum(\n",
        "    clf_data, clf_query, k=3\n",
        ")"
      ],
      "metadata": {
        "colab": {
          "base_uri": "https://localhost:8080/"
        },
        "id": "Gkq1DN0L1Y3w",
        "outputId": "547e399b-1bc4-4ea8-932a-1f9be7cb616b"
      },
      "execution_count": 45,
      "outputs": [
        {
          "output_type": "stream",
          "name": "stdout",
          "text": [
            "[(0.0, 0), (0.0, 1), (2.0, 0)]\n"
          ]
        }
      ]
    },
    {
      "cell_type": "code",
      "source": [
        "clf_k_nearest_neighbors"
      ],
      "metadata": {
        "colab": {
          "base_uri": "https://localhost:8080/"
        },
        "id": "3B8QjJBk4kVC",
        "outputId": "773c93bb-39a2-462e-b342-6ba7585c03c0"
      },
      "execution_count": 46,
      "outputs": [
        {
          "output_type": "execute_result",
          "data": {
            "text/plain": [
              "[(0.0, 0), (0.0, 1), (2.0, 0)]"
            ]
          },
          "metadata": {},
          "execution_count": 46
        }
      ]
    },
    {
      "cell_type": "code",
      "source": [
        "clf_prediction"
      ],
      "metadata": {
        "colab": {
          "base_uri": "https://localhost:8080/"
        },
        "id": "G0RHhTcE4kJQ",
        "outputId": "228cd59c-5ab4-4db1-b2ec-f46024704354"
      },
      "execution_count": 47,
      "outputs": [
        {
          "output_type": "execute_result",
          "data": {
            "text/plain": [
              "0"
            ]
          },
          "metadata": {},
          "execution_count": 47
        }
      ]
    },
    {
      "cell_type": "code",
      "source": [
        ""
      ],
      "metadata": {
        "id": "f3srgigp6IEH"
      },
      "execution_count": null,
      "outputs": []
    }
  ]
}
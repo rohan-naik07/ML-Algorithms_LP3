{
  "nbformat": 4,
  "nbformat_minor": 0,
  "metadata": {
    "colab": {
      "name": "LinearRegression.ipynb",
      "provenance": []
    },
    "kernelspec": {
      "name": "python3",
      "display_name": "Python 3"
    },
    "language_info": {
      "name": "python"
    }
  },
  "cells": [
    {
      "cell_type": "code",
      "execution_count": 6,
      "metadata": {
        "id": "-eXryZh7zwK6"
      },
      "outputs": [],
      "source": [
        "from math import sqrt\n",
        "\n",
        "class LinearRegression:\n",
        "  def __init__(self,datapoints):\n",
        "    self.datapoints = datapoints\n",
        "    self.n = len(datapoints)\n",
        "\n",
        "    X,Y = self.get_feature_vectors()\n",
        "    pearson = self.get_pearson_coefficient(X,Y)\n",
        "    b0,b1 = self.train(X,Y,pearson)\n",
        "    r2 = self.getR2score(X,Y,b0,b1)\n",
        "    self.plot_graph(X,Y,b0,b1)\n",
        "  \n",
        "  def get_feature_vectors(self):\n",
        "    print('Getting feature vectors....')\n",
        "    X=[]\n",
        "    Y=[]\n",
        "\n",
        "    for datapoint in self.datapoints:\n",
        "      x,y = datapoint\n",
        "      #upper and lower bound for x\n",
        "      assert x>=0\n",
        "      assert x<=16\n",
        "      assert type(x)==int\n",
        "\n",
        "      #upper and lower bound for y\n",
        "      assert y>=0\n",
        "      assert y<=100\n",
        "      assert type(y)==int\n",
        "      \n",
        "      X.append(x)\n",
        "      Y.append(y)\n",
        "    \n",
        "    print('X = ',X)\n",
        "    print('Y = ',Y)\n",
        "    \n",
        "    return X,Y\n",
        "  \n",
        "  def get_pearson_coefficient(self,X,Y):\n",
        "    print('\\nCompute Karl Pearson\\'s Coefficient\\n===========')\n",
        "\n",
        "    sum_x = sum(X)\n",
        "    sum_y = sum(Y)\n",
        "    m = len(X)\n",
        "    sum_xy = 0\n",
        "    sum_x2 = 0\n",
        "    sum_y2 = 0\n",
        "    for x,y in zip(X,Y):\n",
        "      sum_xy += (x*y)\n",
        "      sum_x2 += (x*x)\n",
        "      sum_y2 += (y*y)\n",
        "    numerator = m*sum_xy - sum_x*sum_y\n",
        "    denominator = sqrt(m*sum_x2-(sum_x*sum_x))*sqrt(m*sum_y2-(sum_y*sum_y))\n",
        "    pearson = numerator/denominator\n",
        "\n",
        "    assert pearson>=-1\n",
        "    assert pearson<=1\n",
        "\n",
        "    print('Karl Pearson\\'s Coefficient Correlation = {pearson}'.format(pearson=pearson))\n",
        "    if pearson < -0.5:\n",
        "      print('Strong Negative Correlation')\n",
        "    elif pearson < 0:\n",
        "      print('Weak Negative Correlation')\n",
        "    elif pearson == 0:\n",
        "      print('No Correlation')\n",
        "    elif pearson < 0.5:\n",
        "      print('Weak Positive Correlation')\n",
        "    else:\n",
        "      print('Strong Positive Correlation')\n",
        "    return pearson\n",
        "  \n",
        "  def getR2score(self,X,Y,b0,b1):\n",
        "    Y_mean = sum(Y)/len(Y)\n",
        "    Y_dash = []\n",
        "    for x,y in list(zip(X,Y)):\n",
        "      Y_dash.append(b1*x+b0)\n",
        "    Y_dash_mean = sum(Y_dash)/len(Y_dash)\n",
        "    ssr=0\n",
        "    sst=0\n",
        "    for y,y_dash in list(zip(Y,Y_dash)):\n",
        "      ssr+=(y_dash-Y_dash_mean)*(y_dash-Y_dash_mean)\n",
        "      sst+=(y-Y_mean)*(y-Y_mean)\n",
        "    return ssr/sst\n",
        "  \n",
        "  def train(self,X,Y,pearson):\n",
        "    print('\\nTraining\\n===========')\n",
        "\n",
        "    assert pearson>=0.5 or pearson<=-0.5\n",
        "    print('Strong Correlation, Dataset is fit for Linear Regression')\n",
        "    X_mean = sum(X)/len(X)\n",
        "    Y_mean = sum(Y)/len(Y)\n",
        "    b1_numerator=0\n",
        "    b1_denominator=0\n",
        "    for x,y in list(zip(X,Y)):\n",
        "      b1_numerator+=(x-X_mean)*(y-Y_mean)\n",
        "      b1_denominator+=(x-X_mean)*(x-X_mean)\n",
        "    b1 =  b1_numerator/b1_denominator\n",
        "    b0 = Y_mean - (b1*X_mean)\n",
        "    # Weight Quantization\n",
        "    b0, b1 = round(b0,6), round(b1,6)\n",
        "\n",
        "    print(\"Regression Line Equation : y = {b0} + {b1}*x\".format(b0=b0,b1=b1))\n",
        "    \n",
        "    # Return Coefficients\n",
        "    return b0, b1\n",
        "  \n",
        "  \n",
        "  def plot_graph(self,X,Y,b0,b1):\n",
        "\n",
        "    import matplotlib.pyplot as plt\n",
        "\n",
        "    print('\\nPlot Graph\\n===========')\n",
        "    \n",
        "    plt.scatter(X,Y,color=\"red\", s=30)\n",
        "    Y_pred = []\n",
        "    for x,y in zip(X,Y):\n",
        "      Y_pred.append(b0+b1*x)\n",
        "      plt.annotate((x,y), (x, y))\n",
        "    plt.plot(X,Y_pred, color=\"#0000ff\")\n",
        "    plt.xlabel(\"Number of hours spent driving (x)\")\n",
        "    plt.ylabel(\"Risk Score on a scale of 0-100 (y)\")\n",
        "    plt.show()"
      ]
    },
    {
      "cell_type": "code",
      "source": [
        "datapoints = [[10,95],[9,80],[2,10],[15,50],[10,45],[16,98],[11,38],[16,93]]\n",
        "\n",
        "lr = LinearRegression(datapoints)"
      ],
      "metadata": {
        "colab": {
          "base_uri": "https://localhost:8080/",
          "height": 557
        },
        "id": "IEzJK5V5-YyL",
        "outputId": "7b02099b-02c5-4cf0-ffa6-e504fcebbc32"
      },
      "execution_count": 7,
      "outputs": [
        {
          "output_type": "stream",
          "name": "stdout",
          "text": [
            "Getting feature vectors....\n",
            "X =  [10, 9, 2, 15, 10, 16, 11, 16]\n",
            "Y =  [95, 80, 10, 50, 45, 98, 38, 93]\n",
            "\n",
            "Compute Karl Pearson's Coefficient\n",
            "===========\n",
            "Karl Pearson's Coefficient Correlation = 0.6611314653759117\n",
            "Strong Positive Correlation\n",
            "\n",
            "Training\n",
            "===========\n",
            "Strong Correlation, Dataset is fit for Linear Regression\n",
            "Regression Line Equation : y = 12.584628 + 4.587899*x\n",
            "\n",
            "Plot Graph\n",
            "===========\n"
          ]
        },
        {
          "output_type": "display_data",
          "data": {
            "image/png": "[encoded data removed]",
            "text/plain": [
              "<Figure size 432x288 with 1 Axes>"
            ]
          },
          "metadata": {
            "needs_background": "light"
          }
        }
      ]
    },
    {
      "cell_type": "code",
      "source": [
        ""
      ],
      "metadata": {
        "id": "wk13tnEY-3A1"
      },
      "execution_count": null,
      "outputs": []
    }
  ]
}